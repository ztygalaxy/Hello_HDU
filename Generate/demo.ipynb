{
 "cells": [
  {
   "cell_type": "code",
   "execution_count": 1,
   "outputs": [],
   "source": [
    "import matplotlib.pyplot as plt\n",
    "import numpy as np\n",
    "import pandas as pd"
   ],
   "metadata": {
    "collapsed": false,
    "ExecuteTime": {
     "start_time": "2023-04-12T20:02:06.564799Z",
     "end_time": "2023-04-12T20:02:07.444800Z"
    }
   }
  },
  {
   "cell_type": "code",
   "execution_count": 18,
   "outputs": [],
   "source": [
    "step_size = 5\n",
    "\n",
    "academic_degree_df = pd.read_csv('csv_data/2023/2023_reexamine_academic_degree.csv')\n",
    "professional_degree_df = pd.read_csv('csv_data/2023/2023_reexamine_professional_degree.csv')\n",
    "\n",
    "academic_total_score = academic_degree_df['Total Points']\n",
    "professional_total_score = professional_degree_df['Total Points']"
   ],
   "metadata": {
    "collapsed": false,
    "ExecuteTime": {
     "start_time": "2023-04-12T20:10:04.010822Z",
     "end_time": "2023-04-12T20:10:04.022820Z"
    }
   }
  },
  {
   "cell_type": "code",
   "execution_count": 19,
   "outputs": [],
   "source": [
    "academic_total_score = academic_total_score.sort_values().reset_index(drop=True)"
   ],
   "metadata": {
    "collapsed": false,
    "ExecuteTime": {
     "start_time": "2023-04-12T20:10:04.449819Z",
     "end_time": "2023-04-12T20:10:04.465820Z"
    }
   }
  },
  {
   "cell_type": "code",
   "execution_count": 20,
   "outputs": [
    {
     "data": {
      "text/plain": "0     330\n1     330\n2     331\n3     331\n4     331\n     ... \n93    400\n94    402\n95    403\n96    407\n97    415\nName: Total Points, Length: 98, dtype: int64"
     },
     "execution_count": 20,
     "metadata": {},
     "output_type": "execute_result"
    }
   ],
   "source": [
    "academic_total_score"
   ],
   "metadata": {
    "collapsed": false,
    "ExecuteTime": {
     "start_time": "2023-04-12T20:10:04.799820Z",
     "end_time": "2023-04-12T20:10:04.817823Z"
    }
   }
  },
  {
   "cell_type": "code",
   "execution_count": null,
   "outputs": [],
   "source": [],
   "metadata": {
    "collapsed": false
   }
  }
 ],
 "metadata": {
  "kernelspec": {
   "display_name": "Python 3",
   "language": "python",
   "name": "python3"
  },
  "language_info": {
   "codemirror_mode": {
    "name": "ipython",
    "version": 2
   },
   "file_extension": ".py",
   "mimetype": "text/x-python",
   "name": "python",
   "nbconvert_exporter": "python",
   "pygments_lexer": "ipython2",
   "version": "2.7.6"
  }
 },
 "nbformat": 4,
 "nbformat_minor": 0
}
